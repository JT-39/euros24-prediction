{
 "cells": [
  {
   "cell_type": "code",
   "execution_count": null,
   "metadata": {},
   "outputs": [],
   "source": [
    "import pandas as pd\n",
    "import pickle\n",
    "from string import ascii_uppercase as alphabet\n",
    "import json"
   ]
  },
  {
   "cell_type": "code",
   "execution_count": null,
   "metadata": {},
   "outputs": [],
   "source": [
    "all_tables = pd.read_html(\"https://en.wikipedia.org/wiki/UEFA_Euro_2024\")"
   ]
  },
  {
   "cell_type": "code",
   "execution_count": null,
   "metadata": {},
   "outputs": [],
   "source": [
    "dict_table = {}\n",
    "\n",
    "for letter, i in zip(alphabet, range(18, 57, 7)):\n",
    "    print(f\"Group {letter}\")\n",
    "    df = all_tables[i]\n",
    "    df = df.rename(columns={df.columns[1]:'Team'})\n",
    "    df = df.drop(\"Qualification\", axis=1)\n",
    "    dict_table[f\"Group {letter}\"] = df"
   ]
  },
  {
   "cell_type": "code",
   "execution_count": null,
   "metadata": {},
   "outputs": [],
   "source": [
    "dict_table[\"Group A\"]"
   ]
  },
  {
   "cell_type": "code",
   "execution_count": null,
   "metadata": {},
   "outputs": [],
   "source": [
    "with open (\"_data/dict_table\", \"wb\") as output:\n",
    "    pickle.dump(dict_table, output)"
   ]
  },
  {
   "cell_type": "code",
   "execution_count": null,
   "metadata": {},
   "outputs": [],
   "source": [
    "from bs4 import BeautifulSoup\n",
    "import requests\n",
    "\n",
    "# Generate list of years from 1960 to 2020 in 4-year increments\n",
    "years = list(range(1960, 2021, 4))\n",
    "\n",
    "def get_matches(year):\n",
    "    web = f'https://en.wikipedia.org/wiki/UEFA_Euro_{year}'\n",
    "    response = requests.get(web)\n",
    "    content = response.text\n",
    "    soup = BeautifulSoup(content, \"lxml\")\n",
    "    matches = soup.find_all(\"div\", class_=\"footballbox\")\n",
    "\n",
    "    home = []\n",
    "    score = []\n",
    "    away = []\n",
    "\n",
    "    for match in matches:\n",
    "        home.append(match.find('th', class_='fhome').get_text())\n",
    "        score.append(match.find('th', class_='fscore').get_text())\n",
    "        away.append(match.find('th', class_='faway').get_text())\n",
    "\n",
    "    dict_football = {\"home\": home, \"score\": score, \"away\": away}\n",
    "    df_football = pd.DataFrame(dict_football)\n",
    "    df_football[\"year\"] = year\n",
    "    return df_football\n"
   ]
  },
  {
   "cell_type": "code",
   "execution_count": null,
   "metadata": {},
   "outputs": [],
   "source": [
    "# Extracting historic Euros scores\n",
    "Euros = [get_matches(year) for year in years]\n",
    "df_Euros = pd.concat(Euros, ignore_index=True)\n",
    "df_Euros.to_csv(\"_data/Euros_historical_data.csv\", index=False)"
   ]
  },
  {
   "cell_type": "code",
   "execution_count": null,
   "metadata": {},
   "outputs": [],
   "source": [
    "# Extracting this years fixtures\n",
    "df_fixture = get_matches(2024)\n",
    "df_fixture[\"Match_no\"] = df_fixture['score'].str.extract('(\\d+)').astype(int)\n",
    "df_fixture.sort_values(\"Match_no\").to_csv(\"_data/Euros_fixtures.csv\", index=False)"
   ]
  },
  {
   "cell_type": "code",
   "execution_count": null,
   "metadata": {},
   "outputs": [],
   "source": [
    "df_historical = pd.read_csv(\"_data/Euros_historical_data.csv\")\n",
    "df_fixture = pd.read_csv(\"_data/Euros_fixtures.csv\")"
   ]
  },
  {
   "cell_type": "code",
   "execution_count": null,
   "metadata": {},
   "outputs": [],
   "source": [
    "df_fixture[\"home\"] = df_fixture[\"home\"].str.strip()\n",
    "df_fixture[\"away\"] = df_fixture[\"away\"].str.strip()"
   ]
  },
  {
   "cell_type": "code",
   "execution_count": null,
   "metadata": {},
   "outputs": [],
   "source": [
    "df_historical_data = (\n",
    "    df_historical\n",
    "    .drop_duplicates()\n",
    "    .sort_values(\"year\")\n",
    ")"
   ]
  },
  {
   "cell_type": "code",
   "execution_count": null,
   "metadata": {},
   "outputs": [],
   "source": [
    "# Clean score, home/away cols\n",
    "df_historical_data[\"score\"] = df_historical_data[\"score\"].str.replace(\"[^\\d\\–]\",\"\", regex=True)\n",
    "df_historical_data[\"home\"] = df_historical_data[\"home\"].str.strip()\n",
    "df_historical_data[\"away\"] = df_historical_data[\"away\"].str.strip()\n",
    "\n",
    "# Splitting score into home & away cols\n",
    "df_historical_data[[\"HomeGoals\", \"AwayGoals\"]] = df_historical_data[\"score\"].str.split(\"–\", expand=True)\n",
    "df_historical_data.drop(\"score\", axis=1, inplace=True)\n",
    "\n",
    "# Renaming cols and changing data types\n",
    "df_historical_data.rename(columns={\"home\": \"HomeTeam\", \"away\": \"AwayTeam\",\n",
    "                                   \"year\": \"Year\"}, inplace=True)\n",
    "df_historical_data = df_historical_data.astype({\"HomeGoals\": int, \"AwayGoals\": int,\n",
    "                                                \"Year\": int})\n",
    "\n",
    "# Creating new col \"totalgoals\"\n",
    "df_historical_data[\"TotalGoals\"] = df_historical_data[\"HomeGoals\"] + df_historical_data[\"AwayGoals\"]"
   ]
  },
  {
   "cell_type": "code",
   "execution_count": null,
   "metadata": {},
   "outputs": [],
   "source": [
    "df_historical_data.to_csv(\"_data/clean_Euros_matches.csv\", index=False)\n",
    "df_fixture.to_csv(\"_data/clean_Euros_fixtures.csv\", index=False)"
   ]
  },
  {
   "cell_type": "code",
   "execution_count": null,
   "metadata": {},
   "outputs": [],
   "source": [
    "dict_table = pickle.load(open(\"_data/dict_table\", \"rb\"))\n",
    "df_historical_clean = pd.read_csv(\"_data/clean_Euros_matches.csv\")\n",
    "df_fixture_clean = pd.read_csv(\"_data/clean_Euros_fixtures.csv\")"
   ]
  },
  {
   "cell_type": "code",
   "execution_count": null,
   "metadata": {},
   "outputs": [],
   "source": [
    "# Replace \"Germany\" with \"Germany (H)\" in both cols\n",
    "df_updated = df_historical_data.copy() # Copy to avoid overwriting original df\n",
    "df_updated.loc[df_updated[\"HomeTeam\"] == \"Germany\", \"HomeTeam\"] = \"Germany (H)\"\n",
    "df_updated.loc[df_updated[\"AwayTeam\"] == \"Germany\", \"AwayTeam\"] = \"Germany (H)\"\n",
    "\n",
    "df_historical_clean = df_updated"
   ]
  },
  {
   "cell_type": "code",
   "execution_count": null,
   "metadata": {},
   "outputs": [],
   "source": [
    "df_home = df_historical_clean[[\"HomeTeam\", \"HomeGoals\", \"AwayGoals\"]]\n",
    "df_away = df_historical_clean[[\"AwayTeam\", \"HomeGoals\", \"AwayGoals\"]]\n",
    "\n",
    "df_home = df_home.rename(columns={\"HomeTeam\":\"Team\", \"HomeGoals\":\"GoalsScored\",\n",
    "                                  \"AwayGoals\":\"GoalsConceded\"})\n",
    "df_away = df_away.rename(columns={\"AwayTeam\":\"Team\", \"HomeGoals\":\"GoalsConceded\",\n",
    "                                  \"AwayGoals\":\"GoalsScored\"})\n",
    "\n",
    "df_team_strength = pd.concat([df_home, df_away], ignore_index=True).groupby([\"Team\"]).mean()\n",
    "df_team_strength"
   ]
  },
  {
   "cell_type": "code",
   "execution_count": null,
   "metadata": {},
   "outputs": [],
   "source": [
    "# Replace with \"Germany (H)\"\n",
    "df_fixture.replace({\"home\": \"Germany\"}, {\"home\": \"Germany (H)\"}, inplace=True)\n",
    "df_fixture.replace({\"away\": \"Germany\"}, {\"away\": \"Germany (H)\"}, inplace=True)"
   ]
  },
  {
   "cell_type": "code",
   "execution_count": null,
   "metadata": {},
   "outputs": [],
   "source": [
    "from scipy.stats import poisson\n",
    "\n",
    "# Function to predict the points gained from a match for each team\n",
    "def predict_points(home, away):\n",
    "    if home in df_team_strength.index and away in df_team_strength.index:\n",
    "        # goals_scored * goals_conceded\n",
    "        lamb_home = df_team_strength.at[home, 'GoalsScored'] * df_team_strength.at[away, \"GoalsConceded\"]\n",
    "        lamb_away = df_team_strength.at[away, 'GoalsScored'] * df_team_strength.at[home, \"GoalsConceded\"]\n",
    "\n",
    "        prob_home, prob_away, prob_draw = 0, 0, 0\n",
    "\n",
    "        for x in range(0, 11):\n",
    "            for y in range(0, 11):\n",
    "                p = poisson.pmf(x, lamb_home) * poisson.pmf(y, lamb_away)\n",
    "\n",
    "                if x == y:\n",
    "                    prob_draw += p\n",
    "                elif x > y:\n",
    "                    prob_home += p\n",
    "                elif x < y:\n",
    "                    prob_away += p\n",
    "    \n",
    "        points_home = 3 * prob_home + prob_draw\n",
    "        points_away = 3 * prob_away + prob_draw\n",
    "\n",
    "        return(points_home, points_away)\n",
    "    \n",
    "    else:\n",
    "        return(0,0)"
   ]
  },
  {
   "cell_type": "code",
   "execution_count": null,
   "metadata": {},
   "outputs": [],
   "source": [
    "print(predict_points(\"Germany (H)\", \"Scotland\"))"
   ]
  },
  {
   "cell_type": "code",
   "execution_count": null,
   "metadata": {},
   "outputs": [],
   "source": [
    "# Setting out the fixture rounds\n",
    "df_fixture_group44 = df_fixture[:36].copy()\n",
    "df_fixture_R16 = df_fixture[36:44].copy()\n",
    "df_fixture_quarter = df_fixture[44:48].copy()\n",
    "df_fixture_semi = df_fixture[48:50].copy()\n",
    "df_fixture_final = df_fixture[50:].copy()"
   ]
  },
  {
   "cell_type": "code",
   "execution_count": null,
   "metadata": {},
   "outputs": [],
   "source": [
    "for group in dict_table:\n",
    "    teams_in_group = dict_table[group][\"Team\"].values\n",
    "    df_fixture_group6 = df_fixture_group44[df_fixture_group44[\"home\"].isin(teams_in_group)]\n",
    "\n",
    "    for index, row in  df_fixture_group6.iterrows():\n",
    "        home, away = row[\"home\"], row[\"away\"]\n",
    "        points_home, points_away = predict_points(home, away)\n",
    "        dict_table[group].loc[dict_table[group][\"Team\"] == home, \"Pts\"] += int(points_home)\n",
    "        dict_table[group].loc[dict_table[group][\"Team\"] == away, \"Pts\"] += int(points_away)\n",
    "\n",
    "    dict_table[group] = dict_table[group].sort_values(\"Pts\", ascending = False).reset_index()\n",
    "    dict_table[group] = dict_table[group][[\"Team\", \"Pts\"]]\n",
    "    dict_table[group] = dict_table[group].round(0)\n"
   ]
  },
  {
   "cell_type": "code",
   "execution_count": null,
   "metadata": {},
   "outputs": [],
   "source": [
    "dict_table[\"Group B\"].iloc[2][\"Pts\"]"
   ]
  },
  {
   "cell_type": "code",
   "execution_count": null,
   "metadata": {},
   "outputs": [],
   "source": [
    "import pandas as pd\n",
    "\n",
    "# Create an empty DataFrame for ranking of 3rd place teams\n",
    "third_placed_teams = pd.DataFrame(columns=[\"Pos\", \"Grp\", \"Team\", \"Pld\",\n",
    "                                           \"W\", \"D\", \"L\", \"GF\", \"GA\", \"GD\", \"Pts\", \"Qualification\"]).reset_index(drop=True)\n",
    "\n",
    "# Iterate over each group in dict_table\n",
    "for i, group in enumerate(dict_table, start=1):\n",
    "    # Calculate points for teams in the group based on predictions\n",
    "    teams_in_group = dict_table[group][\"Team\"].values\n",
    "\n",
    "    for index, row in df_fixture_group6.iterrows():\n",
    "        home, away = row[\"home\"], row[\"away\"]\n",
    "        points_home, points_away = predict_points(home, away)\n",
    "        dict_table[group].loc[dict_table[group][\"Team\"] == home, \"Pts\"] += points_home\n",
    "        dict_table[group].loc[dict_table[group][\"Team\"] == away, \"Pts\"] += points_away\n",
    "\n",
    "    # Sort teams in the group based on points\n",
    "    dict_table[group] = dict_table[group].sort_values(\"Pts\", ascending=False).reset_index(drop=True)\n",
    "    dict_table[group] = dict_table[group][[\"Team\", \"Pts\"]]\n",
    "    dict_table[group] = dict_table[group].round(0)\n",
    "\n",
    "    # Add third-placed team to the ranking DataFrame\n",
    "    third_place_team = dict_table[group].iloc[2]\n",
    "    add_third_place = pd.DataFrame([{\n",
    "        \"Pos\": i,\n",
    "        \"Grp\": group,\n",
    "        \"Team\": third_place_team[\"Team\"],\n",
    "        \"Pld\": 0,\n",
    "        \"W\": 0,\n",
    "        \"D\": 0,\n",
    "        \"L\": 0,\n",
    "        \"GF\": 0,\n",
    "        \"GA\": 0,\n",
    "        \"GD\": 0,\n",
    "        \"Pts\": third_place_team[\"Pts\"],\n",
    "        \"Qualification\": \"\"\n",
    "    }])\n",
    "\n",
    "    # Concatenate the new row to the existing DataFrame\n",
    "    third_placed_teams = pd.concat([third_placed_teams.astype(add_third_place.dtypes),\n",
    "                                    add_third_place.astype(third_placed_teams.dtypes)], axis=0, ignore_index=True)\n",
    "\n",
    "# Sort third placed teams based on points\n",
    "third_placed_teams = third_placed_teams.sort_values(by=\"Pts\", ascending=False).reset_index(drop=True)\n",
    "\n",
    "# Determine which teams advance to knockout phase (top 4)\n",
    "top_four_third_teams = third_placed_teams.head(4)\n",
    "top_four_third_teams.loc[:, \"Qualification\"] = \"Advance to knockout phase\"\n",
    "\n",
    "# Display the filled table\n",
    "top_four_third_teams"
   ]
  },
  {
   "cell_type": "code",
   "execution_count": null,
   "metadata": {},
   "outputs": [],
   "source": [
    "df_fixture_final"
   ]
  },
  {
   "cell_type": "code",
   "execution_count": null,
   "metadata": {},
   "outputs": [],
   "source": [
    "for group in dict_table:\n",
    "    group_winner = dict_table[group].loc[0, \"Team\"]\n",
    "    runners_up = dict_table[group].loc[1, \"Team\"]\n",
    "    third_place = dict_table[group].loc[2, \"Team\"]\n",
    "    df_fixture_R16.replace({f\"Winner {group}\": group_winner,\n",
    "                            f\"Runner-up {group}\": runners_up,\n",
    "                            f\"3rd {group}\": third_place}, inplace=True)\n",
    "\n",
    "df_fixture_R16[\"winner\"] = \"?\"\n",
    "df_fixture_R16"
   ]
  },
  {
   "cell_type": "code",
   "execution_count": null,
   "metadata": {},
   "outputs": [],
   "source": [
    "third_place = dict_table[\"Group A\"].loc[2, \"Team\"]\n",
    "third_place"
   ]
  },
  {
   "cell_type": "code",
   "execution_count": null,
   "metadata": {},
   "outputs": [],
   "source": [
    "# Replace \"3rd Group D/E/F\" with third-place team from Group E\n",
    "df_fixture_R16[\"away\"].replace(\"3rd Group D/E/F\", dict_table[\"Group E\"].loc[2, \"Team\"], inplace=True)\n",
    "\n",
    "# Replace \"3rd Group A/D/E/F\" with third-place team from Group D\n",
    "df_fixture_R16[\"away\"].replace(\"3rd Group A/D/E/F\", dict_table[\"Group D\"].loc[2, \"Team\"], inplace=True)\n",
    "\n",
    "# Replace \"3rd Group A/B/C\" with third-place team from Group B\n",
    "df_fixture_R16[\"away\"].replace(\"3rd Group A/B/C\", dict_table[\"Group B\"].loc[2, \"Team\"], inplace=True)\n",
    "\n",
    "# Replace \"3rd Group A/B/C/D\" with third-place team from Group A\n",
    "df_fixture_R16[\"away\"].replace(\"3rd Group A/B/C/D\", dict_table[\"Group A\"].loc[2, \"Team\"], inplace=True)"
   ]
  },
  {
   "cell_type": "code",
   "execution_count": null,
   "metadata": {},
   "outputs": [],
   "source": [
    "df_fixture_R16"
   ]
  },
  {
   "cell_type": "code",
   "execution_count": null,
   "metadata": {},
   "outputs": [],
   "source": [
    "def get_winner(df_fixture_updated):\n",
    "    for index, row in df_fixture_updated.iterrows():\n",
    "        home, away = row[\"home\"], row[\"away\"]\n",
    "        points_home, points_away = predict_points(home, away)\n",
    "        \n",
    "        if points_home > points_away:\n",
    "            winner = home\n",
    "        else:\n",
    "            winner = away\n",
    "\n",
    "        df_fixture_updated.loc[index, \"winner\"] = winner\n",
    "    return df_fixture_updated"
   ]
  },
  {
   "cell_type": "code",
   "execution_count": null,
   "metadata": {},
   "outputs": [],
   "source": [
    "get_winner(df_fixture_R16)\n",
    "\n",
    "df_fixture_R16"
   ]
  },
  {
   "cell_type": "code",
   "execution_count": null,
   "metadata": {},
   "outputs": [],
   "source": [
    "def update_table(df_fixture_round_1, df_fixture_round_2):\n",
    "    for index, row in df_fixture_round_1.iterrows():\n",
    "        winner = df_fixture_round_1.loc[index, \"winner\"]\n",
    "        match = df_fixture_round_1.loc[index, \"score\"]\n",
    "        df_fixture_round_2.replace({f\"Winner {match}\": winner}, inplace=True)\n",
    "    \n",
    "    df_fixture_round_2[\"Winner\"] = \"?\"\n",
    "    return df_fixture_round_2"
   ]
  },
  {
   "cell_type": "code",
   "execution_count": null,
   "metadata": {},
   "outputs": [],
   "source": [
    "update_table(df_fixture_R16, df_fixture_quarter)"
   ]
  },
  {
   "cell_type": "code",
   "execution_count": null,
   "metadata": {},
   "outputs": [],
   "source": [
    "get_winner(df_fixture_quarter)"
   ]
  },
  {
   "cell_type": "code",
   "execution_count": null,
   "metadata": {},
   "outputs": [],
   "source": [
    "update_table(df_fixture_quarter, df_fixture_semi)"
   ]
  },
  {
   "cell_type": "code",
   "execution_count": null,
   "metadata": {},
   "outputs": [],
   "source": [
    "get_winner(df_fixture_semi)"
   ]
  },
  {
   "cell_type": "code",
   "execution_count": null,
   "metadata": {},
   "outputs": [],
   "source": [
    "update_table(df_fixture_semi, df_fixture_final)"
   ]
  },
  {
   "cell_type": "code",
   "execution_count": null,
   "metadata": {},
   "outputs": [],
   "source": [
    "get_winner(df_fixture_final)"
   ]
  }
 ],
 "metadata": {
  "kernelspec": {
   "display_name": "Python 3",
   "language": "python",
   "name": "python3"
  },
  "language_info": {
   "codemirror_mode": {
    "name": "ipython",
    "version": 3
   },
   "file_extension": ".py",
   "mimetype": "text/x-python",
   "name": "python",
   "nbconvert_exporter": "python",
   "pygments_lexer": "ipython3",
   "version": "3.10.11"
  }
 },
 "nbformat": 4,
 "nbformat_minor": 2
}
